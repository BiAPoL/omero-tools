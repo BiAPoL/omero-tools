{
 "cells": [
  {
   "cell_type": "markdown",
   "metadata": {},
   "source": [
    "# Working with metadata from python\n",
    "\n",
    "An important aspect of OMERO - maybe *the* most important aspect of OMERO - is working with metadata. OMERO provides two essential ways of enriching your  data with metadata: Tag annotations and key-value pairs. In this notebook you will learn some essential ways of working with these  from python. Topics covered in this notebook include:\n",
    "\n",
    "- How to add key-value pairs to an image\n",
    "- How to add tags to an image\n",
    "- How to set the pixel size of an image\n",
    "- How to set the channel name of an image\n",
    "\n",
    "Recommended previous read: [How to upload and download data from OMERO](omero.io.read_and_write)"
   ]
  },
  {
   "cell_type": "code",
   "execution_count": 5,
   "metadata": {},
   "outputs": [],
   "source": [
    "import ezomero\n",
    "import omero\n",
    "import numpy as np"
   ]
  },
  {
   "cell_type": "code",
   "execution_count": 3,
   "metadata": {},
   "outputs": [],
   "source": [
    "host = 'omero-int.biotec.tu-dresden.de'\n",
    "user = 'johamuel'  # replace this with your username\n",
    "secure = True\n",
    "port = 4064\n",
    "group = 'default'\n",
    "\n",
    "conn = ezomero.connect(host=host, user=user, secure=secure, port=port, group=group)"
   ]
  },
  {
   "cell_type": "markdown",
   "metadata": {},
   "source": [
    "For the sake of this tutorial, we shall quickly upload some random data:"
   ]
  },
  {
   "cell_type": "code",
   "execution_count": 9,
   "metadata": {},
   "outputs": [
    {
     "name": "stderr",
     "output_type": "stream",
     "text": [
      "WARNING:root:Using this function to save images to OMERO is not recommended when `transfer=ln_s` is the primary mechanism for data import on your OMERO instance. Please consult with your OMERO administrator.\n"
     ]
    },
    {
     "name": "stdout",
     "output_type": "stream",
     "text": [
      "Image ID:  8755\n"
     ]
    }
   ],
   "source": [
    "image = np.random.random((1, 1, 32, 32, 32))\n",
    "image_id = ezomero.post_image(conn, image=image, dim_order='tczyx', image_name='random_image')\n",
    "print('Image ID: ', image_id)"
   ]
  },
  {
   "cell_type": "markdown",
   "metadata": {},
   "source": [
    "## Key-value pairs\n",
    "\n",
    "A key thing (pun intended) we would like to do, is to add some [key-value pairs](https://docs.openmicroscopy.org/omero/5.1.4/developers/Model/KeyValuePairs.html) to the image. These give us the opportunity to provide metadata to our image data in a very flexible way. On the Python side, a key-value pair is simply a dictionary, which we can create like this:"
   ]
  },
  {
   "cell_type": "code",
   "execution_count": 10,
   "metadata": {},
   "outputs": [],
   "source": [
    "key_value_pairs = {\n",
    "    'Owner': 'Johannes',\n",
    "    'Date': '20230620'\n",
    "}"
   ]
  },
  {
   "cell_type": "markdown",
   "metadata": {},
   "source": [
    "Suppose we want to add some kv-pairs to the above-uploaded image, we can do it like this. The arguments are relatively straightforward, except for the `ns` argument, which is short for an [omero namespace](https://docs.openmicroscopy.org/omero/5.6.4/developers/Model/StructuredAnnotations.html#names-and-namespaces). The concept of the `namespace` ensure a few things:\n",
    "\n",
    "- **Uniqueness**: Namespaces help avoid conflicts by making sure that annotations from different sources or with different purposes don't get mixed up or overwrite each other.\n",
    "- **Context**: They provide a context for the data, making it clear what the data represents and how it should be interpreted.\n",
    "- **Scalability**: As your OMERO server grows with more data and more users, namespaces help keep annotations organized and manageable.\n",
    "\n",
    "Using a namespace has a very practical effect: "
   ]
  },
  {
   "cell_type": "code",
   "execution_count": 14,
   "metadata": {},
   "outputs": [
    {
     "name": "stdout",
     "output_type": "stream",
     "text": [
      "object group 3\n"
     ]
    },
    {
     "data": {
      "text/plain": [
       "4030"
      ]
     },
     "execution_count": 14,
     "metadata": {},
     "output_type": "execute_result"
    }
   ],
   "source": [
    "ezomero.post_map_annotation(conn, 'Image', 8755, key_value_pairs, ns=\"openmicroscopy.org/omero/client/mapAnnotation\")"
   ]
  },
  {
   "cell_type": "markdown",
   "metadata": {},
   "source": [
    "The next thing we may want to do is to add a tag to our data. Again, we can use ezomero for this job. To do this, we first check whether a tag of a given name already exists in the space of available tags. If so, we can retrieve its id and use it to tag our data. If not, we can create a new tag and use its id to tag our data."
   ]
  },
  {
   "cell_type": "code",
   "execution_count": null,
   "metadata": {},
   "outputs": [],
   "source": [
    "from omero.gateway import TagAnnotationWrapper, TagAnnotationI\n",
    "from omero.rtypes import rstring"
   ]
  },
  {
   "cell_type": "code",
   "execution_count": null,
   "metadata": {},
   "outputs": [
    {
     "data": {
      "text/plain": [
       "<TagAnnotationWrapper id=4024>"
      ]
     },
     "metadata": {},
     "output_type": "display_data"
    }
   ],
   "source": [
    "tag_name = \"SampleData\"  # Replace with your desired tag name\n",
    "tags = conn.getObjects(\"TagAnnotation\", attributes={\"textValue\": tag_name})\n",
    "\n",
    "tag_id = None\n",
    "for tag in tags:\n",
    "    tag_id = tag.getId()\n",
    "    break\n",
    "\n",
    "# If the tag does not exist, create it\n",
    "# If the tag does not exist, create it\n",
    "if tag is None:\n",
    "    tag = TagAnnotationWrapper(conn)\n",
    "    tag.setValue(rstring(tag_name))\n",
    "    tag.setDescription(rstring(\"A tag for sample data\"))\n",
    "    tag.save()\n"
   ]
  },
  {
   "cell_type": "code",
   "execution_count": null,
   "metadata": {},
   "outputs": [],
   "source": [
    "\n",
    "image_object = conn.getObject(\"Image\", image_id)\n",
    "image_object.linkAnnotation(tag)"
   ]
  }
 ],
 "metadata": {
  "kernelspec": {
   "display_name": "yolomero",
   "language": "python",
   "name": "python3"
  },
  "language_info": {
   "codemirror_mode": {
    "name": "ipython",
    "version": 3
   },
   "file_extension": ".py",
   "mimetype": "text/x-python",
   "name": "python",
   "nbconvert_exporter": "python",
   "pygments_lexer": "ipython3",
   "version": "3.9.15"
  }
 },
 "nbformat": 4,
 "nbformat_minor": 2
}
