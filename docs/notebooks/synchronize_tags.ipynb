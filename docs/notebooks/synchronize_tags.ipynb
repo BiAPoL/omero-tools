{
 "cells": [
  {
   "cell_type": "markdown",
   "metadata": {},
   "source": [
    "# Synchronize tags across groups\n",
    "\n",
    "To make sure that there is some standardization across projects with regard to how data is tagged and annotated, we need to synchronize tags across groups. The goal is to make sure that the tags used in the data are consistent across groups. This will make it easier to search for data and to use the data in the future. The defined tags themselves are based off of the [REMBI metadata schema](https://www.nature.com/articles/s41592-021-01166-8). More specifically, we orient ourselves on the tags used in the [provided spreadsheet](https://docs.google.com/spreadsheets/d/1Ck1NeLp-ZN4eMGdNYo2nV6KLEdSfN6oQBKnnWU6Npeo/edit).\n",
    "\n",
    "\n",
    "To install the necessary packages, run the following command:\n",
    "```bash\n",
    "mamba install omero-py ezomero -c bioconda\n",
    "```"
   ]
  },
  {
   "cell_type": "code",
   "execution_count": 1,
   "metadata": {},
   "outputs": [],
   "source": [
    "from omero.gateway import BlitzGateway\n",
    "import omero\n",
    "import omero.gateway\n",
    "from omero.rtypes import rstring, rlong\n",
    "import yaml\n",
    "import ezomero\n",
    "import yaml"
   ]
  },
  {
   "cell_type": "markdown",
   "metadata": {},
   "source": [
    "\n",
    "# Prerequisites\n",
    "\n",
    "We create user that is called `tag-man` and make sure that this user is member of all groups to which we want to synchronize tags. We then add these groups to the groups we want to synchronize."
   ]
  },
  {
   "cell_type": "code",
   "execution_count": 29,
   "metadata": {},
   "outputs": [],
   "source": [
    "# Replace these with your OMERO server credentials\n",
    "OMERO_HOST = 'omero-int.biotec.tu-dresden.de'\n",
    "OMERO_PORT = 4064\n",
    "OMERO_USER = 'tag-man'\n",
    "OMERO_PASS =  'tagtag'\n",
    "OMERO_SECURE = True\n",
    "TAG_SET_NAMESPACE = 'openmicroscopy.org/omero/insight/tagset'\n",
    "\n",
    "TARGET_GROUPS = ['BiAPoL', 'Campas Lab', 'Dye Lab', 'In vivo testing facility']"
   ]
  },
  {
   "cell_type": "markdown",
   "metadata": {},
   "source": [
    "We need some utility functions to read tags from a tagset and to write tags to a tagset. We also need a function to synchronize tags across groups."
   ]
  },
  {
   "cell_type": "code",
   "execution_count": 3,
   "metadata": {},
   "outputs": [],
   "source": [
    "def load_yaml(file_path):\n",
    "    with open(file_path, 'r') as file:\n",
    "        return yaml.safe_load(file)\n",
    "\n",
    "def get_user_tag_sets(conn, user_id, namespace):\n",
    "    params = omero.sys.ParametersI()\n",
    "    params.add('uid', rlong(user_id))\n",
    "    params.add('ns', rstring(namespace))\n",
    "\n",
    "    query = \"\"\"\n",
    "    select t from TagAnnotation t\n",
    "    join fetch t.details.owner as owner\n",
    "    where owner.id = :uid and t.ns = :ns\n",
    "    \"\"\"\n",
    "\n",
    "    tag_sets = conn.getQueryService().findAllByQuery(query, params)\n",
    "    return {tag_set.textValue.val: tag_set for tag_set in tag_sets}\n",
    "\n",
    "def create_tag_set(conn, name, description, user_id, namespace):\n",
    "    tag_set = omero.model.TagAnnotationI()\n",
    "    tag_set.textValue = rstring(name)\n",
    "    tag_set.description = rstring(description)\n",
    "    tag_set.ns = rstring(namespace)\n",
    "    tag_set.details.owner = omero.model.ExperimenterI(user_id, False)\n",
    "    return conn.getUpdateService().saveAndReturnObject(tag_set)\n",
    "\n",
    "def list_tags_in_tagset(conn, tagset_name, user_id, namespace):\n",
    "    params = omero.sys.ParametersI()\n",
    "    params.add('uid', rlong(user_id))\n",
    "    params.add('ns', rstring(namespace))\n",
    "    params.add('name', rstring(tagset_name))\n",
    "\n",
    "    query = \"\"\"\n",
    "    select t from TagAnnotation t\n",
    "    join fetch t.details.owner as owner\n",
    "    where owner.id = :uid and t.ns = :ns and t.textValue = :name\n",
    "    \"\"\"\n",
    "\n",
    "    tag_sets = conn.getQueryService().findAllByQuery(query, params)\n",
    "    \n",
    "    if not tag_sets:\n",
    "        print(f\"No tag set found with the name '{tagset_name}'.\")\n",
    "        return []\n",
    "\n",
    "    tag_set = tag_sets[0]\n",
    "\n",
    "    # Load annotations linked to the tag set\n",
    "    links = conn.getAnnotationLinks('TagAnnotation', [tag_set.id.val])\n",
    "    tag_names = [link.child.textValue.val for link in links]\n",
    "\n",
    "    return tag_names"
   ]
  },
  {
   "cell_type": "markdown",
   "metadata": {},
   "source": [
    "Lastly, this function will be called and iterates over every group that is part of the synchronization process (see above) and synchronizes the tags. For this, it checks existing tags and tagsets. If there is a tag that exists in the [local collection of tags](tag_collection.yaml) but doesn't exist in the remote tagset, it will be added. If a tag exists remotely but not locally in the preset collection, nothing happens. This makes sure that users can add their own individual tags to the tagmanager without them being overwritten by the synchronization process."
   ]
  },
  {
   "cell_type": "code",
   "execution_count": 4,
   "metadata": {},
   "outputs": [],
   "source": [
    "def synchronize_tags(conn, local_tag_collection):\n",
    "\n",
    "    # Get the currently connected user's ID\n",
    "    user_id = conn.getUserId()\n",
    "    print(f\"Currently connected user's ID: {user_id}\")\n",
    "\n",
    "    # Process each tag set\n",
    "    existing_tag_sets = get_user_tag_sets(conn, user_id, TAG_SET_NAMESPACE)\n",
    "\n",
    "    for tagset in local_tag_collection:\n",
    "        tagset_name = local_tag_collection[tagset]['name']\n",
    "        tagset_description = local_tag_collection[tagset]['description']\n",
    "        \n",
    "        # Check if tag set exists in OMERO\n",
    "        if tagset_name in existing_tag_sets:\n",
    "            print(f\"Tag set '{tagset_name}' already exists in OMERO.\")\n",
    "            tag_set = existing_tag_sets[tagset_name]\n",
    "        else:\n",
    "            print(f\"Creating tag set '{tagset_name}' in OMERO.\")\n",
    "            tag_set = create_tag_set(conn, tagset_name, tagset_description, user_id, TAG_SET_NAMESPACE)\n",
    "\n",
    "        tags_in_tagset = list_tags_in_tagset(conn, tagset_name, user_id, TAG_SET_NAMESPACE)\n",
    "\n",
    "        if local_tag_collection[tagset]['tags'] is None:\n",
    "            continue\n",
    "        \n",
    "        for tag in local_tag_collection[tagset]['tags']:    \n",
    "            tag_name = tag['name']\n",
    "            tag_description = tag['description']\n",
    "            \n",
    "            if tag_name in tags_in_tagset:\n",
    "                print(f\"\\tTag '{tag_name}' already exists in tag set '{tagset_name}'.\")\n",
    "            else:\n",
    "                print(f\"\\tCreating tag '{tag_name}' in tag set '{tagset_name}'.\")\n",
    "                tag_annotation = omero.model.TagAnnotationI()\n",
    "                tag_annotation.textValue = rstring(tag_name)\n",
    "                tag_annotation.description = rstring(tag_description)\n",
    "                tag_annotation.details.owner = omero.model.ExperimenterI(user_id, False)\n",
    "                tag_annotation = conn.getUpdateService().saveAndReturnObject(tag_annotation)\n",
    "\n",
    "                # Link the new tag to the tag set\n",
    "                link = omero.model.AnnotationAnnotationLinkI()\n",
    "                link.parent = omero.model.TagAnnotationI(tag_set.id.val, False)\n",
    "                link.child = omero.model.TagAnnotationI(tag_annotation.id.val, False)\n",
    "                conn.getUpdateService().saveAndReturnObject(link)\n",
    "                tag_annotation.details.owner = omero.model.ExperimenterI(user_id, False)\n",
    "                tag_annotation = conn.getUpdateService().saveAndReturnObject(tag_annotation)\n",
    "\n",
    "                # Link the new tag to the tag set\n",
    "                link = omero.model.AnnotationAnnotationLinkI()\n",
    "                link.parent = omero.model.TagAnnotationI(tag_set.id.val, False)\n",
    "                link.child = omero.model.TagAnnotationI(tag_annotation.id.val, False)\n",
    "                #conn.getUpdateService().saveAndReturnObject(link)"
   ]
  },
  {
   "cell_type": "markdown",
   "metadata": {},
   "source": [
    "Let's show all the tagsets and tags in our local collection and then synchronize them across groups."
   ]
  },
  {
   "cell_type": "code",
   "execution_count": 7,
   "metadata": {},
   "outputs": [
    {
     "data": {
      "text/plain": [
       "'in vivo testing facility'"
      ]
     },
     "execution_count": 7,
     "metadata": {},
     "output_type": "execute_result"
    }
   ],
   "source": [
    "OMERO_GROUP"
   ]
  },
  {
   "cell_type": "code",
   "execution_count": 30,
   "metadata": {},
   "outputs": [
    {
     "name": "stderr",
     "output_type": "stream",
     "text": [
      "ERROR:root:Could not connect, check your settings\n"
     ]
    }
   ],
   "source": [
    "# Load the YAML document\n",
    "yaml_file_path = './tag_collection.yaml'  # Replace with the actual path to your YAML file\n",
    "local_tag_collection = load_yaml(yaml_file_path)\n",
    "\n",
    "\n",
    "for OMERO_GROUP in TARGET_GROUPS:\n",
    "    # Connect to OMERO\n",
    "    conn = ezomero.connect(user=OMERO_USER, password=OMERO_PASS, host=OMERO_HOST,\n",
    "                        port=OMERO_PORT, secure=OMERO_SECURE, group=OMERO_GROUP)\n",
    "    synchronize_tags(conn, local_tag_collection)"
   ]
  }
 ],
 "metadata": {
  "kernelspec": {
   "display_name": "stress",
   "language": "python",
   "name": "python3"
  },
  "language_info": {
   "codemirror_mode": {
    "name": "ipython",
    "version": 3
   },
   "file_extension": ".py",
   "mimetype": "text/x-python",
   "name": "python",
   "nbconvert_exporter": "python",
   "pygments_lexer": "ipython3",
   "version": "3.9.19"
  }
 },
 "nbformat": 4,
 "nbformat_minor": 2
}
