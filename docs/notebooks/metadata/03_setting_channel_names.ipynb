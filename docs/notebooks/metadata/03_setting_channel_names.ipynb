{
 "cells": [
  {
   "cell_type": "markdown",
   "metadata": {},
   "source": [
    "# Setting  channel names\n",
    "\n",
    "The naming of channels of multicolor images can be a bit ambiguous if not done properly directly from the start of the acquisition. Also, a microscope may name a channel simply after the name of the excitation laser wavelength or the emission filter - because the micrscope is unaware of the particular fluorophore or staining that is being used. In that situation, you can change the channel name to something more meaningful to you."
   ]
  },
  {
   "cell_type": "code",
   "execution_count": 1,
   "metadata": {},
   "outputs": [],
   "source": [
    "import ezomero\n",
    "import omero"
   ]
  },
  {
   "cell_type": "code",
   "execution_count": 2,
   "metadata": {},
   "outputs": [],
   "source": [
    "host = 'omero-int.biotec.tu-dresden.de'\n",
    "user = ''  # replace this with your username\n",
    "secure = True\n",
    "port = 4064\n",
    "group = 'default'\n",
    "\n",
    "conn = ezomero.connect(host=host, user=user, secure=secure, port=port, group=group)"
   ]
  },
  {
   "cell_type": "markdown",
   "metadata": {},
   "source": [
    "First, let's retrieve the current metadata of our sample image:"
   ]
  },
  {
   "cell_type": "code",
   "execution_count": 4,
   "metadata": {},
   "outputs": [
    {
     "name": "stdout",
     "output_type": "stream",
     "text": [
      "Channel labels:  ['0', '1']\n"
     ]
    }
   ],
   "source": [
    "metadata, image = ezomero.get_image(conn, image_id=330)\n",
    "print('Channel labels: ', metadata.getChannelLabels())"
   ]
  },
  {
   "cell_type": "markdown",
   "metadata": {},
   "source": [
    "Our channels are currently named `0` and `1`, which is obviously not very informative. We can change the channel names to something more meaningful. We create a dictionary for some new channel names.\n",
    "\n",
    "```{note}\n",
    "Per OMERO convention, the keys of the dictionary have to be numbers counting up from 1 to the number of channels in the image.\n",
    "```"
   ]
  },
  {
   "cell_type": "code",
   "execution_count": 5,
   "metadata": {},
   "outputs": [],
   "source": [
    "new_channel_names = {\n",
    "    1: 'DAPI',\n",
    "    2: 'GFP',\n",
    "}"
   ]
  },
  {
   "cell_type": "markdown",
   "metadata": {},
   "source": [
    "Now we can pass this dictionary to the remote image object to update the channel names. Note that the `ids` keyword requires *a list of image ids* and not a single image id."
   ]
  },
  {
   "cell_type": "code",
   "execution_count": 7,
   "metadata": {},
   "outputs": [
    {
     "data": {
      "text/plain": [
       "{'imageCount': 1, 'updateCount': 1}"
      ]
     },
     "execution_count": 7,
     "metadata": {},
     "output_type": "execute_result"
    }
   ],
   "source": [
    "conn.setChannelNames(data_type='Image', ids=[metadata.getId()], nameDict=new_channel_names)"
   ]
  },
  {
   "cell_type": "markdown",
   "metadata": {},
   "source": [
    "Let's check for the information of the image again to see if the channel names have been updated."
   ]
  },
  {
   "cell_type": "code",
   "execution_count": 8,
   "metadata": {},
   "outputs": [
    {
     "name": "stdout",
     "output_type": "stream",
     "text": [
      "Channel labels:  ['DAPI', 'GFP']\n"
     ]
    }
   ],
   "source": [
    "metadata, image = ezomero.get_image(conn, image_id=330)\n",
    "print('Channel labels: ', metadata.getChannelLabels())"
   ]
  },
  {
   "cell_type": "code",
   "execution_count": null,
   "metadata": {},
   "outputs": [],
   "source": []
  }
 ],
 "metadata": {
  "kernelspec": {
   "display_name": "stress",
   "language": "python",
   "name": "python3"
  },
  "language_info": {
   "codemirror_mode": {
    "name": "ipython",
    "version": 3
   },
   "file_extension": ".py",
   "mimetype": "text/x-python",
   "name": "python",
   "nbconvert_exporter": "python",
   "pygments_lexer": "ipython3",
   "version": "3.9.19"
  }
 },
 "nbformat": 4,
 "nbformat_minor": 2
}
